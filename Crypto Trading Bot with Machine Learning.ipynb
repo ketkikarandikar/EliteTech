{
 "cells": [
  {
   "cell_type": "markdown",
   "id": "d8ff7ad0-fdc8-46eb-9b00-79440c5afb6e",
   "metadata": {},
   "source": [
    "# Install Required Libraries "
   ]
  },
  {
   "cell_type": "code",
   "execution_count": 1,
   "id": "7665987c-3064-4da7-a84a-2d7886f15c24",
   "metadata": {},
   "outputs": [
    {
     "name": "stdout",
     "output_type": "stream",
     "text": [
      "Requirement already satisfied: ccxt in c:\\users\\admin\\anaconda3\\lib\\site-packages (4.4.40)\n",
      "Requirement already satisfied: pandas in c:\\users\\admin\\anaconda3\\lib\\site-packages (2.2.2)\n",
      "Requirement already satisfied: scikit-learn in c:\\users\\admin\\anaconda3\\lib\\site-packages (1.5.1)\n",
      "Requirement already satisfied: numpy in c:\\users\\admin\\anaconda3\\lib\\site-packages (1.26.4)\n",
      "Requirement already satisfied: matplotlib in c:\\users\\admin\\anaconda3\\lib\\site-packages (3.9.2)\n",
      "Requirement already satisfied: setuptools>=60.9.0 in c:\\users\\admin\\anaconda3\\lib\\site-packages (from ccxt) (75.1.0)\n",
      "Requirement already satisfied: certifi>=2018.1.18 in c:\\users\\admin\\anaconda3\\lib\\site-packages (from ccxt) (2024.8.30)\n",
      "Requirement already satisfied: requests>=2.18.4 in c:\\users\\admin\\anaconda3\\lib\\site-packages (from ccxt) (2.32.3)\n",
      "Requirement already satisfied: cryptography>=2.6.1 in c:\\users\\admin\\anaconda3\\lib\\site-packages (from ccxt) (43.0.0)\n",
      "Requirement already satisfied: typing-extensions>=4.4.0 in c:\\users\\admin\\anaconda3\\lib\\site-packages (from ccxt) (4.11.0)\n",
      "Requirement already satisfied: aiohttp<=3.10.11 in c:\\users\\admin\\anaconda3\\lib\\site-packages (from ccxt) (3.10.5)\n",
      "Requirement already satisfied: aiodns>=1.1.1 in c:\\users\\admin\\anaconda3\\lib\\site-packages (from ccxt) (3.2.0)\n",
      "Requirement already satisfied: yarl>=1.7.2 in c:\\users\\admin\\anaconda3\\lib\\site-packages (from ccxt) (1.11.0)\n",
      "Requirement already satisfied: python-dateutil>=2.8.2 in c:\\users\\admin\\anaconda3\\lib\\site-packages (from pandas) (2.9.0.post0)\n",
      "Requirement already satisfied: pytz>=2020.1 in c:\\users\\admin\\anaconda3\\lib\\site-packages (from pandas) (2024.1)\n",
      "Requirement already satisfied: tzdata>=2022.7 in c:\\users\\admin\\anaconda3\\lib\\site-packages (from pandas) (2023.3)\n",
      "Requirement already satisfied: scipy>=1.6.0 in c:\\users\\admin\\anaconda3\\lib\\site-packages (from scikit-learn) (1.13.1)\n",
      "Requirement already satisfied: joblib>=1.2.0 in c:\\users\\admin\\anaconda3\\lib\\site-packages (from scikit-learn) (1.4.2)\n",
      "Requirement already satisfied: threadpoolctl>=3.1.0 in c:\\users\\admin\\anaconda3\\lib\\site-packages (from scikit-learn) (3.5.0)\n",
      "Requirement already satisfied: contourpy>=1.0.1 in c:\\users\\admin\\anaconda3\\lib\\site-packages (from matplotlib) (1.2.0)\n",
      "Requirement already satisfied: cycler>=0.10 in c:\\users\\admin\\anaconda3\\lib\\site-packages (from matplotlib) (0.11.0)\n",
      "Requirement already satisfied: fonttools>=4.22.0 in c:\\users\\admin\\anaconda3\\lib\\site-packages (from matplotlib) (4.51.0)\n",
      "Requirement already satisfied: kiwisolver>=1.3.1 in c:\\users\\admin\\anaconda3\\lib\\site-packages (from matplotlib) (1.4.4)\n",
      "Requirement already satisfied: packaging>=20.0 in c:\\users\\admin\\anaconda3\\lib\\site-packages (from matplotlib) (24.1)\n",
      "Requirement already satisfied: pillow>=8 in c:\\users\\admin\\anaconda3\\lib\\site-packages (from matplotlib) (10.4.0)\n",
      "Requirement already satisfied: pyparsing>=2.3.1 in c:\\users\\admin\\anaconda3\\lib\\site-packages (from matplotlib) (3.1.2)\n",
      "Requirement already satisfied: pycares>=4.0.0 in c:\\users\\admin\\anaconda3\\lib\\site-packages (from aiodns>=1.1.1->ccxt) (4.5.0)\n",
      "Requirement already satisfied: aiohappyeyeballs>=2.3.0 in c:\\users\\admin\\anaconda3\\lib\\site-packages (from aiohttp<=3.10.11->ccxt) (2.4.0)\n",
      "Requirement already satisfied: aiosignal>=1.1.2 in c:\\users\\admin\\anaconda3\\lib\\site-packages (from aiohttp<=3.10.11->ccxt) (1.2.0)\n",
      "Requirement already satisfied: attrs>=17.3.0 in c:\\users\\admin\\anaconda3\\lib\\site-packages (from aiohttp<=3.10.11->ccxt) (23.1.0)\n",
      "Requirement already satisfied: frozenlist>=1.1.1 in c:\\users\\admin\\anaconda3\\lib\\site-packages (from aiohttp<=3.10.11->ccxt) (1.4.0)\n",
      "Requirement already satisfied: multidict<7.0,>=4.5 in c:\\users\\admin\\anaconda3\\lib\\site-packages (from aiohttp<=3.10.11->ccxt) (6.0.4)\n",
      "Requirement already satisfied: cffi>=1.12 in c:\\users\\admin\\anaconda3\\lib\\site-packages (from cryptography>=2.6.1->ccxt) (1.17.1)\n",
      "Requirement already satisfied: six>=1.5 in c:\\users\\admin\\anaconda3\\lib\\site-packages (from python-dateutil>=2.8.2->pandas) (1.16.0)\n",
      "Requirement already satisfied: charset-normalizer<4,>=2 in c:\\users\\admin\\anaconda3\\lib\\site-packages (from requests>=2.18.4->ccxt) (3.3.2)\n",
      "Requirement already satisfied: idna<4,>=2.5 in c:\\users\\admin\\anaconda3\\lib\\site-packages (from requests>=2.18.4->ccxt) (3.7)\n",
      "Requirement already satisfied: urllib3<3,>=1.21.1 in c:\\users\\admin\\anaconda3\\lib\\site-packages (from requests>=2.18.4->ccxt) (2.2.3)\n",
      "Requirement already satisfied: pycparser in c:\\users\\admin\\anaconda3\\lib\\site-packages (from cffi>=1.12->cryptography>=2.6.1->ccxt) (2.21)\n",
      "Note: you may need to restart the kernel to use updated packages.\n"
     ]
    }
   ],
   "source": [
    "pip install ccxt pandas scikit-learn numpy matplotlib"
   ]
  },
  {
   "cell_type": "markdown",
   "id": "fc6e7b2a-56cc-4238-95da-652645d74f2f",
   "metadata": {},
   "source": [
    "# Dataset Preparation"
   ]
  },
  {
   "cell_type": "markdown",
   "id": "6678848e-8790-47c3-824a-547440dffa82",
   "metadata": {},
   "source": [
    "# Fetch Historical data"
   ]
  },
  {
   "cell_type": "code",
   "execution_count": 2,
   "id": "b2833f19-47b6-4396-ae00-bb869a0717f0",
   "metadata": {},
   "outputs": [
    {
     "name": "stdout",
     "output_type": "stream",
     "text": [
      "            timestamp      open      high       low     close       volume\n",
      "0 2024-11-08 15:00:00  75752.01  76584.60  75636.36  76427.72  4176.027290\n",
      "1 2024-11-08 16:00:00  76427.72  76514.99  75834.00  75919.30  2102.025720\n",
      "2 2024-11-08 17:00:00  75919.30  76522.00  75822.07  76385.99  1917.727060\n",
      "3 2024-11-08 18:00:00  76386.00  76999.00  76342.00  76812.00  2615.869050\n",
      "4 2024-11-08 19:00:00  76812.00  77199.99  76699.05  76912.58  2811.241873\n"
     ]
    }
   ],
   "source": [
    "import ccxt\n",
    "import pandas as pd\n",
    "\n",
    "def fetch_historical_data(symbol = \"BTC/USDT\", timeframe=\"1h\", limit=1000):\n",
    "    exchange = ccxt.binance()\n",
    "    ohlcv = exchange.fetch_ohlcv(symbol, timeframe, limit=limit)\n",
    "    df = pd.DataFrame(ohlcv, columns=['timestamp', 'open', 'high', 'low', 'close', 'volume'])\n",
    "    df['timestamp'] = pd.to_datetime(df['timestamp'], unit='ms')\n",
    "    return df\n",
    "\n",
    "# Fetch data\n",
    "data = fetch_historical_data()\n",
    "print(data.head())\n"
   ]
  },
  {
   "cell_type": "markdown",
   "id": "24492299-1050-471d-a0cc-22777e296a63",
   "metadata": {},
   "source": [
    "# Feature Engineering"
   ]
  },
  {
   "cell_type": "code",
   "execution_count": 3,
   "id": "ef0e9670-a72b-42fa-8f1a-4a216dd8bb33",
   "metadata": {},
   "outputs": [
    {
     "name": "stdout",
     "output_type": "stream",
     "text": [
      "              timestamp      open      high       low     close      volume  \\\n",
      "995 2024-12-20 02:00:00  96319.99  97731.91  96000.00  97632.59  2632.07757   \n",
      "996 2024-12-20 03:00:00  97632.59  97784.81  96969.70  97106.02  1041.19363   \n",
      "997 2024-12-20 04:00:00  97106.02  97838.98  96839.40  97304.07  1275.17255   \n",
      "998 2024-12-20 05:00:00  97304.07  97491.95  96672.47  96734.32  1339.46566   \n",
      "999 2024-12-20 06:00:00  96734.33  97050.00  96708.00  96827.38   301.59171   \n",
      "\n",
      "      returns      ma_10        rsi  \n",
      "995  0.013627  97586.938  30.504979  \n",
      "996 -0.005393  97411.954  29.220569  \n",
      "997  0.002040  97249.088  33.232838  \n",
      "998 -0.005855  97202.548  32.317779  \n",
      "999  0.000962  97244.332  32.659528  \n"
     ]
    }
   ],
   "source": [
    "def add_features(df):\n",
    "    df['returns'] = df['close'].pct_change()\n",
    "    df['ma_10'] = df['close'].rolling(window=10).mean()\n",
    "    df['rsi'] = compute_rsi(df['close'], window=14)\n",
    "    df.dropna(inplace=True)\n",
    "    return df\n",
    "\n",
    "def compute_rsi(series, window):\n",
    "    delta = series.diff()\n",
    "    gain = (delta.where(delta > 0, 0)).rolling(window=window).mean()\n",
    "    loss = (-delta.where(delta < 0, 0)).rolling(window=window).mean()\n",
    "    rs = gain / loss\n",
    "    return 100 - (100 / (1 + rs))\n",
    "\n",
    "data = add_features(data)\n",
    "print(data.tail())\n"
   ]
  },
  {
   "cell_type": "markdown",
   "id": "f23fa86e-6a34-4e1c-bae0-810504cb4913",
   "metadata": {},
   "source": [
    "# Machine Learning Model"
   ]
  },
  {
   "cell_type": "code",
   "execution_count": 4,
   "id": "47cef02f-7abf-4e2f-b812-f0c8dc34587a",
   "metadata": {},
   "outputs": [
    {
     "name": "stdout",
     "output_type": "stream",
     "text": [
      "Accuracy: 0.4797979797979798\n"
     ]
    }
   ],
   "source": [
    "from sklearn.ensemble import RandomForestClassifier\n",
    "from sklearn.model_selection import train_test_split\n",
    "from sklearn.metrics import accuracy_score\n",
    "\n",
    "# Define target: 1 if price goes up, 0 otherwise\n",
    "data['target'] = (data['returns'].shift(-1) > 0).astype(int)\n",
    "\n",
    "# Features and target\n",
    "features = ['close', 'volume', 'ma_10', 'rsi']\n",
    "X = data[features]\n",
    "y = data['target']\n",
    "\n",
    "# Train-test split\n",
    "X_train, X_test, y_train, y_test = train_test_split(X, y, test_size=0.2, shuffle=False)\n",
    "\n",
    "# Train Random Forest model\n",
    "model = RandomForestClassifier(n_estimators=100, random_state=42)\n",
    "model.fit(X_train, y_train)\n",
    "\n",
    "# Test model\n",
    "y_pred = model.predict(X_test)\n",
    "print(\"Accuracy:\", accuracy_score(y_test, y_pred))\n"
   ]
  },
  {
   "cell_type": "markdown",
   "id": "87c68aba-6ca0-4dbc-8df6-a31ba64d8484",
   "metadata": {},
   "source": [
    "# Real-Time Prediction and Trading"
   ]
  },
  {
   "cell_type": "code",
   "execution_count": 5,
   "id": "fe323a31-d50c-4991-b942-9749cfde0e3e",
   "metadata": {},
   "outputs": [
    {
     "name": "stdout",
     "output_type": "stream",
     "text": [
      "Buy signal!\n"
     ]
    }
   ],
   "source": [
    "def predict_and_trade(latest_data, model):\n",
    "    features = ['close', 'volume', 'ma_10', 'rsi']\n",
    "    latest_data = latest_data[-1:]  # Use the latest row for prediction\n",
    "    prediction = model.predict(latest_data[features])\n",
    "    \n",
    "    if prediction[0] == 1:  # Predicted price increase\n",
    "        print(\"Buy signal!\")\n",
    "        # Execute buy order (commented for safety)\n",
    "        # exchange.create_market_buy_order(\"BTC/USDT\", amount=0.001)\n",
    "    else:\n",
    "        print(\"Sell signal or Hold!\")\n",
    "\n",
    "# Simulate real-time data feed\n",
    "latest_data = add_features(fetch_historical_data(limit=20))\n",
    "predict_and_trade(latest_data, model)\n"
   ]
  },
  {
   "cell_type": "markdown",
   "id": "8e929392-43b1-489e-987b-aeeb0767a60a",
   "metadata": {},
   "source": [
    "# Backtesting"
   ]
  },
  {
   "cell_type": "code",
   "execution_count": 6,
   "id": "6734d5eb-5c1d-4296-b9ff-33f230bd1d55",
   "metadata": {},
   "outputs": [
    {
     "data": {
      "image/png": "[encoded data removed]",
      "text/plain": [
       "<Figure size 1000x500 with 1 Axes>"
      ]
     },
     "metadata": {},
     "output_type": "display_data"
    }
   ],
   "source": [
    "def backtest(data, model):\n",
    "    data['prediction'] = model.predict(data[features])\n",
    "    data['strategy_returns'] = data['prediction'] * data['returns']\n",
    "    cumulative_strategy = (1 + data['strategy_returns']).cumprod()\n",
    "    cumulative_market = (1 + data['returns']).cumprod()\n",
    "\n",
    "    # Plot results\n",
    "    import matplotlib.pyplot as plt\n",
    "    plt.figure(figsize=(10, 5))\n",
    "    plt.plot(data['timestamp'], cumulative_strategy, label='Strategy')\n",
    "    plt.plot(data['timestamp'], cumulative_market, label='Market')\n",
    "    plt.legend()\n",
    "    plt.show()\n",
    "\n",
    "backtest(data, model)\n"
   ]
  },
  {
   "cell_type": "markdown",
   "id": "3be8bbc4-fbd4-47a4-84e0-a6fcef1bc983",
   "metadata": {},
   "source": [
    "# Dataset Example"
   ]
  },
  {
   "cell_type": "code",
   "execution_count": 7,
   "id": "673fb6e9-4bb4-440e-b024-0e4a2f7ba2b2",
   "metadata": {},
   "outputs": [
    {
     "name": "stdout",
     "output_type": "stream",
     "text": [
      "                      timestamp        open     high      low    close  \\\n",
      "0 1970-01-01 00:00:01.502946000  1502949599  4308.83  4328.69  4291.37   \n",
      "1 1970-01-01 00:00:01.502949600  1502953199  4330.29  4345.45  4309.37   \n",
      "2 1970-01-01 00:00:01.502953200  1502956799  4316.62  4349.99  4287.41   \n",
      "3 1970-01-01 00:00:01.502956800  1502960399  4333.32  4377.85  4333.32   \n",
      "4 1970-01-01 00:00:01.502960400  1502963999  4360.00  4445.78  4360.00   \n",
      "\n",
      "    volume     ignore  \n",
      "0  4315.32  23.234916  \n",
      "1  4324.35   7.229691  \n",
      "2  4349.99   4.443249  \n",
      "3  4360.69   0.972807  \n",
      "4  4444.00  10.763623  \n"
     ]
    }
   ],
   "source": [
    "import pandas as pd\n",
    "\n",
    "file_path = r\"C:\\Users\\Admin\\Desktop\\binance-BTCUSDT-1h.csv\"\n",
    "data = pd.read_csv(file_path, skiprows=1)\n",
    "\n",
    "# Rename columns and convert timestamp\n",
    "data.columns = ['timestamp', 'open', 'high', 'low', 'close', 'volume', 'ignore']\n",
    "data['timestamp'] = pd.to_datetime(data['timestamp'])\n",
    "\n",
    "print(data.head())\n"
   ]
  },
  {
   "cell_type": "markdown",
   "id": "dda3f877-3755-42bc-b4ee-c2441e55f0e2",
   "metadata": {},
   "source": [
    "# Connect to Binance API"
   ]
  },
  {
   "cell_type": "code",
   "execution_count": 8,
   "id": "d6940465-87bf-478b-a9be-060fcb253a56",
   "metadata": {},
   "outputs": [
    {
     "name": "stdout",
     "output_type": "stream",
     "text": [
      "Requirement already satisfied: ccxt in c:\\users\\admin\\anaconda3\\lib\\site-packages (4.4.40)Note: you may need to restart the kernel to use updated packages.\n",
      "\n",
      "Requirement already satisfied: setuptools>=60.9.0 in c:\\users\\admin\\anaconda3\\lib\\site-packages (from ccxt) (75.1.0)\n",
      "Requirement already satisfied: certifi>=2018.1.18 in c:\\users\\admin\\anaconda3\\lib\\site-packages (from ccxt) (2024.8.30)\n",
      "Requirement already satisfied: requests>=2.18.4 in c:\\users\\admin\\anaconda3\\lib\\site-packages (from ccxt) (2.32.3)\n",
      "Requirement already satisfied: cryptography>=2.6.1 in c:\\users\\admin\\anaconda3\\lib\\site-packages (from ccxt) (43.0.0)\n",
      "Requirement already satisfied: typing-extensions>=4.4.0 in c:\\users\\admin\\anaconda3\\lib\\site-packages (from ccxt) (4.11.0)\n",
      "Requirement already satisfied: aiohttp<=3.10.11 in c:\\users\\admin\\anaconda3\\lib\\site-packages (from ccxt) (3.10.5)\n",
      "Requirement already satisfied: aiodns>=1.1.1 in c:\\users\\admin\\anaconda3\\lib\\site-packages (from ccxt) (3.2.0)\n",
      "Requirement already satisfied: yarl>=1.7.2 in c:\\users\\admin\\anaconda3\\lib\\site-packages (from ccxt) (1.11.0)\n",
      "Requirement already satisfied: pycares>=4.0.0 in c:\\users\\admin\\anaconda3\\lib\\site-packages (from aiodns>=1.1.1->ccxt) (4.5.0)\n",
      "Requirement already satisfied: aiohappyeyeballs>=2.3.0 in c:\\users\\admin\\anaconda3\\lib\\site-packages (from aiohttp<=3.10.11->ccxt) (2.4.0)\n",
      "Requirement already satisfied: aiosignal>=1.1.2 in c:\\users\\admin\\anaconda3\\lib\\site-packages (from aiohttp<=3.10.11->ccxt) (1.2.0)\n",
      "Requirement already satisfied: attrs>=17.3.0 in c:\\users\\admin\\anaconda3\\lib\\site-packages (from aiohttp<=3.10.11->ccxt) (23.1.0)\n",
      "Requirement already satisfied: frozenlist>=1.1.1 in c:\\users\\admin\\anaconda3\\lib\\site-packages (from aiohttp<=3.10.11->ccxt) (1.4.0)\n",
      "Requirement already satisfied: multidict<7.0,>=4.5 in c:\\users\\admin\\anaconda3\\lib\\site-packages (from aiohttp<=3.10.11->ccxt) (6.0.4)\n",
      "Requirement already satisfied: cffi>=1.12 in c:\\users\\admin\\anaconda3\\lib\\site-packages (from cryptography>=2.6.1->ccxt) (1.17.1)\n",
      "Requirement already satisfied: charset-normalizer<4,>=2 in c:\\users\\admin\\anaconda3\\lib\\site-packages (from requests>=2.18.4->ccxt) (3.3.2)\n",
      "Requirement already satisfied: idna<4,>=2.5 in c:\\users\\admin\\anaconda3\\lib\\site-packages (from requests>=2.18.4->ccxt) (3.7)\n",
      "Requirement already satisfied: urllib3<3,>=1.21.1 in c:\\users\\admin\\anaconda3\\lib\\site-packages (from requests>=2.18.4->ccxt) (2.2.3)\n",
      "Requirement already satisfied: pycparser in c:\\users\\admin\\anaconda3\\lib\\site-packages (from cffi>=1.12->cryptography>=2.6.1->ccxt) (2.21)\n"
     ]
    }
   ],
   "source": [
    "pip install ccxt"
   ]
  },
  {
   "cell_type": "markdown",
   "id": "b3886e2c-0bd0-4d85-a010-0a6513f9aa1d",
   "metadata": {},
   "source": [
    "# Setting Up the API Connection"
   ]
  },
  {
   "cell_type": "code",
   "execution_count": 9,
   "id": "66fa1252-b728-488d-b124-5b38c23844db",
   "metadata": {},
   "outputs": [
    {
     "name": "stdout",
     "output_type": "stream",
     "text": [
      "Connected to Binance\n"
     ]
    },
    {
     "ename": "AuthenticationError",
     "evalue": "binance {\"code\":-2008,\"msg\":\"Invalid Api-Key ID.\"}",
     "output_type": "error",
     "traceback": [
      "\u001b[1;31m---------------------------------------------------------------------------\u001b[0m",
      "\u001b[1;31mHTTPError\u001b[0m                                 Traceback (most recent call last)",
      "File \u001b[1;32m~\\anaconda3\\Lib\\site-packages\\ccxt\\base\\exchange.py:580\u001b[0m, in \u001b[0;36mExchange.fetch\u001b[1;34m(self, url, method, headers, body)\u001b[0m\n\u001b[0;32m    579\u001b[0m     \u001b[38;5;28mself\u001b[39m\u001b[38;5;241m.\u001b[39mlogger\u001b[38;5;241m.\u001b[39mdebug(\u001b[38;5;124m\"\u001b[39m\u001b[38;5;132;01m%s\u001b[39;00m\u001b[38;5;124m \u001b[39m\u001b[38;5;132;01m%s\u001b[39;00m\u001b[38;5;124m, Response: \u001b[39m\u001b[38;5;132;01m%s\u001b[39;00m\u001b[38;5;124m \u001b[39m\u001b[38;5;132;01m%s\u001b[39;00m\u001b[38;5;124m \u001b[39m\u001b[38;5;132;01m%s\u001b[39;00m\u001b[38;5;124m\"\u001b[39m, method, url, http_status_code, headers, http_response)\n\u001b[1;32m--> 580\u001b[0m     response\u001b[38;5;241m.\u001b[39mraise_for_status()\n\u001b[0;32m    582\u001b[0m \u001b[38;5;28;01mexcept\u001b[39;00m Timeout \u001b[38;5;28;01mas\u001b[39;00m e:\n",
      "File \u001b[1;32m~\\anaconda3\\Lib\\site-packages\\requests\\models.py:1024\u001b[0m, in \u001b[0;36mResponse.raise_for_status\u001b[1;34m(self)\u001b[0m\n\u001b[0;32m   1023\u001b[0m \u001b[38;5;28;01mif\u001b[39;00m http_error_msg:\n\u001b[1;32m-> 1024\u001b[0m     \u001b[38;5;28;01mraise\u001b[39;00m HTTPError(http_error_msg, response\u001b[38;5;241m=\u001b[39m\u001b[38;5;28mself\u001b[39m)\n",
      "\u001b[1;31mHTTPError\u001b[0m: 400 Client Error:  for url: https://api.binance.com/sapi/v1/capital/config/getall?timestamp=1734767167656&recvWindow=10000&signature=cdafa332f4c5650bafd7eb397964c76e6273bb413975c8105a49266cff59ae07",
      "\nDuring handling of the above exception, another exception occurred:\n",
      "\u001b[1;31mAuthenticationError\u001b[0m                       Traceback (most recent call last)",
      "Cell \u001b[1;32mIn[9], line 21\u001b[0m\n\u001b[0;32m     18\u001b[0m \u001b[38;5;28mprint\u001b[39m(\u001b[38;5;124m\"\u001b[39m\u001b[38;5;124mConnected to Binance\u001b[39m\u001b[38;5;124m\"\u001b[39m)\n\u001b[0;32m     20\u001b[0m \u001b[38;5;66;03m# Fetch account balance\u001b[39;00m\n\u001b[1;32m---> 21\u001b[0m balance \u001b[38;5;241m=\u001b[39m exchange\u001b[38;5;241m.\u001b[39mfetch_balance()\n\u001b[0;32m     22\u001b[0m \u001b[38;5;28mprint\u001b[39m(\u001b[38;5;124m\"\u001b[39m\u001b[38;5;124mAccount balance:\u001b[39m\u001b[38;5;124m\"\u001b[39m, balance[\u001b[38;5;124m'\u001b[39m\u001b[38;5;124mtotal\u001b[39m\u001b[38;5;124m'\u001b[39m])\n",
      "File \u001b[1;32m~\\anaconda3\\Lib\\site-packages\\ccxt\\binance.py:3633\u001b[0m, in \u001b[0;36mbinance.fetch_balance\u001b[1;34m(self, params)\u001b[0m\n\u001b[0;32m   3612\u001b[0m \u001b[38;5;28;01mdef\u001b[39;00m \u001b[38;5;21mfetch_balance\u001b[39m(\u001b[38;5;28mself\u001b[39m, params\u001b[38;5;241m=\u001b[39m{}) \u001b[38;5;241m-\u001b[39m\u001b[38;5;241m>\u001b[39m Balances:\n\u001b[0;32m   3613\u001b[0m \u001b[38;5;250m    \u001b[39m\u001b[38;5;124;03m\"\"\"\u001b[39;00m\n\u001b[0;32m   3614\u001b[0m \u001b[38;5;124;03m    query for balance and get the amount of funds available for trading or funds locked in orders\u001b[39;00m\n\u001b[0;32m   3615\u001b[0m \n\u001b[1;32m   (...)\u001b[0m\n\u001b[0;32m   3631\u001b[0m \u001b[38;5;124;03m    :returns dict: a `balance structure <https://docs.ccxt.com/#/?id=balance-structure>`\u001b[39;00m\n\u001b[0;32m   3632\u001b[0m \u001b[38;5;124;03m    \"\"\"\u001b[39;00m\n\u001b[1;32m-> 3633\u001b[0m     \u001b[38;5;28mself\u001b[39m\u001b[38;5;241m.\u001b[39mload_markets()\n\u001b[0;32m   3634\u001b[0m     defaultType \u001b[38;5;241m=\u001b[39m \u001b[38;5;28mself\u001b[39m\u001b[38;5;241m.\u001b[39msafe_string_2(\u001b[38;5;28mself\u001b[39m\u001b[38;5;241m.\u001b[39moptions, \u001b[38;5;124m'\u001b[39m\u001b[38;5;124mfetchBalance\u001b[39m\u001b[38;5;124m'\u001b[39m, \u001b[38;5;124m'\u001b[39m\u001b[38;5;124mdefaultType\u001b[39m\u001b[38;5;124m'\u001b[39m, \u001b[38;5;124m'\u001b[39m\u001b[38;5;124mspot\u001b[39m\u001b[38;5;124m'\u001b[39m)\n\u001b[0;32m   3635\u001b[0m     \u001b[38;5;28mtype\u001b[39m \u001b[38;5;241m=\u001b[39m \u001b[38;5;28mself\u001b[39m\u001b[38;5;241m.\u001b[39msafe_string(params, \u001b[38;5;124m'\u001b[39m\u001b[38;5;124mtype\u001b[39m\u001b[38;5;124m'\u001b[39m, defaultType)\n",
      "File \u001b[1;32m~\\anaconda3\\Lib\\site-packages\\ccxt\\base\\exchange.py:1515\u001b[0m, in \u001b[0;36mExchange.load_markets\u001b[1;34m(self, reload, params)\u001b[0m\n\u001b[0;32m   1513\u001b[0m currencies \u001b[38;5;241m=\u001b[39m \u001b[38;5;28;01mNone\u001b[39;00m\n\u001b[0;32m   1514\u001b[0m \u001b[38;5;28;01mif\u001b[39;00m \u001b[38;5;28mself\u001b[39m\u001b[38;5;241m.\u001b[39mhas[\u001b[38;5;124m'\u001b[39m\u001b[38;5;124mfetchCurrencies\u001b[39m\u001b[38;5;124m'\u001b[39m] \u001b[38;5;129;01mis\u001b[39;00m \u001b[38;5;28;01mTrue\u001b[39;00m:\n\u001b[1;32m-> 1515\u001b[0m     currencies \u001b[38;5;241m=\u001b[39m \u001b[38;5;28mself\u001b[39m\u001b[38;5;241m.\u001b[39mfetch_currencies()\n\u001b[0;32m   1516\u001b[0m markets \u001b[38;5;241m=\u001b[39m \u001b[38;5;28mself\u001b[39m\u001b[38;5;241m.\u001b[39mfetch_markets(params)\n\u001b[0;32m   1517\u001b[0m \u001b[38;5;28;01mreturn\u001b[39;00m \u001b[38;5;28mself\u001b[39m\u001b[38;5;241m.\u001b[39mset_markets(markets, currencies)\n",
      "File \u001b[1;32m~\\anaconda3\\Lib\\site-packages\\ccxt\\binance.py:2870\u001b[0m, in \u001b[0;36mbinance.fetch_currencies\u001b[1;34m(self, params)\u001b[0m\n\u001b[0;32m   2868\u001b[0m \u001b[38;5;28;01mif\u001b[39;00m apiBackup \u001b[38;5;129;01mis\u001b[39;00m \u001b[38;5;129;01mnot\u001b[39;00m \u001b[38;5;28;01mNone\u001b[39;00m:\n\u001b[0;32m   2869\u001b[0m     \u001b[38;5;28;01mreturn\u001b[39;00m \u001b[38;5;28;01mNone\u001b[39;00m\n\u001b[1;32m-> 2870\u001b[0m promises \u001b[38;5;241m=\u001b[39m [\u001b[38;5;28mself\u001b[39m\u001b[38;5;241m.\u001b[39msapiGetCapitalConfigGetall(params)]\n\u001b[0;32m   2871\u001b[0m fetchMargins \u001b[38;5;241m=\u001b[39m \u001b[38;5;28mself\u001b[39m\u001b[38;5;241m.\u001b[39msafe_bool(\u001b[38;5;28mself\u001b[39m\u001b[38;5;241m.\u001b[39moptions, \u001b[38;5;124m'\u001b[39m\u001b[38;5;124mfetchMargins\u001b[39m\u001b[38;5;124m'\u001b[39m, \u001b[38;5;28;01mFalse\u001b[39;00m)\n\u001b[0;32m   2872\u001b[0m \u001b[38;5;28;01mif\u001b[39;00m fetchMargins:\n",
      "File \u001b[1;32m~\\anaconda3\\Lib\\site-packages\\ccxt\\base\\types.py:35\u001b[0m, in \u001b[0;36mEntry.__init__.<locals>.unbound_method\u001b[1;34m(_self, params)\u001b[0m\n\u001b[0;32m     34\u001b[0m \u001b[38;5;28;01mdef\u001b[39;00m \u001b[38;5;21munbound_method\u001b[39m(_self, params\u001b[38;5;241m=\u001b[39m{}):\n\u001b[1;32m---> 35\u001b[0m     \u001b[38;5;28;01mreturn\u001b[39;00m _self\u001b[38;5;241m.\u001b[39mrequest(\u001b[38;5;28mself\u001b[39m\u001b[38;5;241m.\u001b[39mpath, \u001b[38;5;28mself\u001b[39m\u001b[38;5;241m.\u001b[39mapi, \u001b[38;5;28mself\u001b[39m\u001b[38;5;241m.\u001b[39mmethod, params, config\u001b[38;5;241m=\u001b[39m\u001b[38;5;28mself\u001b[39m\u001b[38;5;241m.\u001b[39mconfig)\n",
      "File \u001b[1;32m~\\anaconda3\\Lib\\site-packages\\ccxt\\binance.py:11232\u001b[0m, in \u001b[0;36mbinance.request\u001b[1;34m(self, path, api, method, params, headers, body, config)\u001b[0m\n\u001b[0;32m  11231\u001b[0m \u001b[38;5;28;01mdef\u001b[39;00m \u001b[38;5;21mrequest\u001b[39m(\u001b[38;5;28mself\u001b[39m, path, api\u001b[38;5;241m=\u001b[39m\u001b[38;5;124m'\u001b[39m\u001b[38;5;124mpublic\u001b[39m\u001b[38;5;124m'\u001b[39m, method\u001b[38;5;241m=\u001b[39m\u001b[38;5;124m'\u001b[39m\u001b[38;5;124mGET\u001b[39m\u001b[38;5;124m'\u001b[39m, params\u001b[38;5;241m=\u001b[39m{}, headers\u001b[38;5;241m=\u001b[39m\u001b[38;5;28;01mNone\u001b[39;00m, body\u001b[38;5;241m=\u001b[39m\u001b[38;5;28;01mNone\u001b[39;00m, config\u001b[38;5;241m=\u001b[39m{}):\n\u001b[1;32m> 11232\u001b[0m     response \u001b[38;5;241m=\u001b[39m \u001b[38;5;28mself\u001b[39m\u001b[38;5;241m.\u001b[39mfetch2(path, api, method, params, headers, body, config)\n\u001b[0;32m  11233\u001b[0m     \u001b[38;5;66;03m# a workaround for {\"code\":-2015,\"msg\":\"Invalid API-key, IP, or permissions for action.\"}\u001b[39;00m\n\u001b[0;32m  11234\u001b[0m     \u001b[38;5;28;01mif\u001b[39;00m api \u001b[38;5;241m==\u001b[39m \u001b[38;5;124m'\u001b[39m\u001b[38;5;124mprivate\u001b[39m\u001b[38;5;124m'\u001b[39m:\n",
      "File \u001b[1;32m~\\anaconda3\\Lib\\site-packages\\ccxt\\base\\exchange.py:4236\u001b[0m, in \u001b[0;36mExchange.fetch2\u001b[1;34m(self, path, api, method, params, headers, body, config)\u001b[0m\n\u001b[0;32m   4234\u001b[0m                     \u001b[38;5;28mself\u001b[39m\u001b[38;5;241m.\u001b[39msleep(retryDelay)\n\u001b[0;32m   4235\u001b[0m                 \u001b[38;5;28;01mcontinue\u001b[39;00m\n\u001b[1;32m-> 4236\u001b[0m         \u001b[38;5;28;01mraise\u001b[39;00m e\n\u001b[0;32m   4237\u001b[0m \u001b[38;5;28;01mreturn\u001b[39;00m \u001b[38;5;28;01mNone\u001b[39;00m\n",
      "File \u001b[1;32m~\\anaconda3\\Lib\\site-packages\\ccxt\\base\\exchange.py:4227\u001b[0m, in \u001b[0;36mExchange.fetch2\u001b[1;34m(self, path, api, method, params, headers, body, config)\u001b[0m\n\u001b[0;32m   4225\u001b[0m \u001b[38;5;28;01mfor\u001b[39;00m i \u001b[38;5;129;01min\u001b[39;00m \u001b[38;5;28mrange\u001b[39m(\u001b[38;5;241m0\u001b[39m, retries \u001b[38;5;241m+\u001b[39m \u001b[38;5;241m1\u001b[39m):\n\u001b[0;32m   4226\u001b[0m     \u001b[38;5;28;01mtry\u001b[39;00m:\n\u001b[1;32m-> 4227\u001b[0m         \u001b[38;5;28;01mreturn\u001b[39;00m \u001b[38;5;28mself\u001b[39m\u001b[38;5;241m.\u001b[39mfetch(request[\u001b[38;5;124m'\u001b[39m\u001b[38;5;124murl\u001b[39m\u001b[38;5;124m'\u001b[39m], request[\u001b[38;5;124m'\u001b[39m\u001b[38;5;124mmethod\u001b[39m\u001b[38;5;124m'\u001b[39m], request[\u001b[38;5;124m'\u001b[39m\u001b[38;5;124mheaders\u001b[39m\u001b[38;5;124m'\u001b[39m], request[\u001b[38;5;124m'\u001b[39m\u001b[38;5;124mbody\u001b[39m\u001b[38;5;124m'\u001b[39m])\n\u001b[0;32m   4228\u001b[0m     \u001b[38;5;28;01mexcept\u001b[39;00m \u001b[38;5;167;01mException\u001b[39;00m \u001b[38;5;28;01mas\u001b[39;00m e:\n\u001b[0;32m   4229\u001b[0m         \u001b[38;5;28;01mif\u001b[39;00m \u001b[38;5;28misinstance\u001b[39m(e, NetworkError):\n",
      "File \u001b[1;32m~\\anaconda3\\Lib\\site-packages\\ccxt\\base\\exchange.py:596\u001b[0m, in \u001b[0;36mExchange.fetch\u001b[1;34m(self, url, method, headers, body)\u001b[0m\n\u001b[0;32m    594\u001b[0m \u001b[38;5;28;01mexcept\u001b[39;00m HTTPError \u001b[38;5;28;01mas\u001b[39;00m e:\n\u001b[0;32m    595\u001b[0m     details \u001b[38;5;241m=\u001b[39m \u001b[38;5;124m'\u001b[39m\u001b[38;5;124m \u001b[39m\u001b[38;5;124m'\u001b[39m\u001b[38;5;241m.\u001b[39mjoin([\u001b[38;5;28mself\u001b[39m\u001b[38;5;241m.\u001b[39mid, method, url])\n\u001b[1;32m--> 596\u001b[0m     skip_further_error_handling \u001b[38;5;241m=\u001b[39m \u001b[38;5;28mself\u001b[39m\u001b[38;5;241m.\u001b[39mhandle_errors(http_status_code, http_status_text, url, method, headers, http_response, json_response, request_headers, request_body)\n\u001b[0;32m    597\u001b[0m     \u001b[38;5;28;01mif\u001b[39;00m \u001b[38;5;129;01mnot\u001b[39;00m skip_further_error_handling:\n\u001b[0;32m    598\u001b[0m         \u001b[38;5;28mself\u001b[39m\u001b[38;5;241m.\u001b[39mhandle_http_status_code(http_status_code, http_status_text, url, method, http_response)\n",
      "File \u001b[1;32m~\\anaconda3\\Lib\\site-packages\\ccxt\\binance.py:11199\u001b[0m, in \u001b[0;36mbinance.handle_errors\u001b[1;34m(self, code, reason, url, method, headers, body, response, requestHeaders, requestBody)\u001b[0m\n\u001b[0;32m  11192\u001b[0m \u001b[38;5;28;01mif\u001b[39;00m message \u001b[38;5;241m==\u001b[39m \u001b[38;5;124m'\u001b[39m\u001b[38;5;124mNo need to change margin type.\u001b[39m\u001b[38;5;124m'\u001b[39m:\n\u001b[0;32m  11193\u001b[0m     \u001b[38;5;66;03m# not an error\u001b[39;00m\n\u001b[0;32m  11194\u001b[0m     \u001b[38;5;66;03m# https://github.com/ccxt/ccxt/issues/11268\u001b[39;00m\n\u001b[0;32m  11195\u001b[0m     \u001b[38;5;66;03m# https://github.com/ccxt/ccxt/pull/11624\u001b[39;00m\n\u001b[0;32m  11196\u001b[0m     \u001b[38;5;66;03m# POST https://fapi.binance.com/fapi/v1/marginType 400 Bad Request\u001b[39;00m\n\u001b[0;32m  11197\u001b[0m     \u001b[38;5;66;03m# binanceusdm {\"code\":-4046,\"msg\":\"No need to change margin type.\"}\u001b[39;00m\n\u001b[0;32m  11198\u001b[0m     \u001b[38;5;28;01mraise\u001b[39;00m MarginModeAlreadySet(feedback)\n\u001b[1;32m> 11199\u001b[0m \u001b[38;5;28mself\u001b[39m\u001b[38;5;241m.\u001b[39mthrow_exactly_matched_exception(\u001b[38;5;28mself\u001b[39m\u001b[38;5;241m.\u001b[39mget_exceptions_by_url(url, \u001b[38;5;124m'\u001b[39m\u001b[38;5;124mexact\u001b[39m\u001b[38;5;124m'\u001b[39m), error, feedback)\n\u001b[0;32m  11200\u001b[0m \u001b[38;5;28mself\u001b[39m\u001b[38;5;241m.\u001b[39mthrow_exactly_matched_exception(\u001b[38;5;28mself\u001b[39m\u001b[38;5;241m.\u001b[39mexceptions[\u001b[38;5;124m'\u001b[39m\u001b[38;5;124mexact\u001b[39m\u001b[38;5;124m'\u001b[39m], error, feedback)\n\u001b[0;32m  11201\u001b[0m \u001b[38;5;28;01mraise\u001b[39;00m ExchangeError(feedback)\n",
      "File \u001b[1;32m~\\anaconda3\\Lib\\site-packages\\ccxt\\base\\exchange.py:4619\u001b[0m, in \u001b[0;36mExchange.throw_exactly_matched_exception\u001b[1;34m(self, exact, string, message)\u001b[0m\n\u001b[0;32m   4617\u001b[0m     \u001b[38;5;28;01mreturn\u001b[39;00m\n\u001b[0;32m   4618\u001b[0m \u001b[38;5;28;01mif\u001b[39;00m string \u001b[38;5;129;01min\u001b[39;00m exact:\n\u001b[1;32m-> 4619\u001b[0m     \u001b[38;5;28;01mraise\u001b[39;00m exact[string](message)\n",
      "\u001b[1;31mAuthenticationError\u001b[0m: binance {\"code\":-2008,\"msg\":\"Invalid Api-Key ID.\"}"
     ]
    }
   ],
   "source": [
    "import ccxt\n",
    "\n",
    "# Replace with your Binance API key and secret\n",
    "API_KEY = \"your_api_key_here\"\n",
    "API_SECRET = \"your_api_secret_here\"\n",
    "\n",
    "# Initialize Binance exchange object\n",
    "def connect_binance():\n",
    "    exchange = ccxt.binance({\n",
    "        'apiKey': API_KEY,\n",
    "        'secret': API_SECRET,\n",
    "        'enableRateLimit': True\n",
    "    })\n",
    "    return exchange\n",
    "\n",
    "# Test connection\n",
    "exchange = connect_binance()\n",
    "print(\"Connected to Binance\")\n",
    "\n",
    "# Fetch account balance\n",
    "balance = exchange.fetch_balance()\n",
    "print(\"Account balance:\", balance['total'])\n"
   ]
  },
  {
   "cell_type": "markdown",
   "id": "2f4684f0-bb04-415c-a7c8-9e09ab1e092d",
   "metadata": {},
   "source": [
    "# Fetch Real-Time Market Data"
   ]
  },
  {
   "cell_type": "code",
   "execution_count": null,
   "id": "c771b34e-92ed-483a-9071-ebb26616d622",
   "metadata": {},
   "outputs": [],
   "source": [
    "# Fetch real-time ticker price\n",
    "def fetch_ticker(exchange, symbol=\"BTC/USDT\"):\n",
    "    ticker = exchange.fetch_ticker(symbol)\n",
    "    print(f\"Current {symbol} price: {ticker['last']}\")\n",
    "    return ticker\n",
    "\n",
    "# Fetch OHLCV (Open, High, Low, Close, Volume) data\n",
    "def fetch_ohlcv(exchange, symbol=\"BTC/USDT\", timeframe=\"1m\", limit=10):\n",
    "    ohlcv = exchange.fetch_ohlcv(symbol, timeframe, limit=limit)\n",
    "    df = pd.DataFrame(ohlcv, columns=['timestamp', 'open', 'high', 'low', 'close', 'volume'])\n",
    "    df['timestamp'] = pd.to_datetime(df['timestamp'], unit='ms')\n",
    "    print(df.tail())\n",
    "    return df\n",
    "\n",
    "# Example usage\n",
    "fetch_ticker(exchange)\n",
    "fetch_ohlcv(exchange)\n"
   ]
  },
  {
   "cell_type": "markdown",
   "id": "75623d18-7acd-4605-a5e7-9620b8da674e",
   "metadata": {},
   "source": [
    "# Execute Buy/Sell Orders"
   ]
  },
  {
   "cell_type": "code",
   "execution_count": null,
   "id": "28777ba5-ad65-41ad-ad8a-21f132c1f8a0",
   "metadata": {},
   "outputs": [],
   "source": [
    "# Execute a market buy order\n",
    "def place_market_order(exchange, symbol, order_type, amount):\n",
    "    try:\n",
    "        if order_type.lower() == \"buy\":\n",
    "            order = exchange.create_market_buy_order(symbol, amount)\n",
    "        elif order_type.lower() == \"sell\":\n",
    "            order = exchange.create_market_sell_order(symbol, amount)\n",
    "        print(f\"Order placed: {order}\")\n",
    "    except Exception as e:\n",
    "        print(f\"Error placing order: {e}\")\n",
    "\n",
    "# Example usage\n",
    "# Buy 0.001 BTC\n",
    "place_market_order(exchange, symbol=\"BTC/USDT\", order_type=\"buy\", amount=0.001)\n"
   ]
  },
  {
   "cell_type": "markdown",
   "id": "24d16f40-3b14-45ec-b60c-571690654d12",
   "metadata": {},
   "source": [
    "# Combine with Prediction Model"
   ]
  },
  {
   "cell_type": "code",
   "execution_count": null,
   "id": "52971707-09c9-480d-b616-eedebe099dbb",
   "metadata": {},
   "outputs": [],
   "source": [
    "def predict_and_trade(exchange, latest_data, model):\n",
    "    features = ['close', 'volume', 'ma_10', 'rsi']\n",
    "    latest_row = latest_data[-1:]  # Use the latest row for prediction\n",
    "    prediction = model.predict(latest_row[features])\n",
    "    \n",
    "    if prediction[0] == 1:  # Predicted price increase\n",
    "        print(\"Buy signal detected!\")\n",
    "        place_market_order(exchange, symbol=\"BTC/USDT\", order_type=\"buy\", amount=0.001)\n",
    "    else:\n",
    "        print(\"Sell signal detected!\")\n",
    "        place_market_order(exchange, symbol=\"BTC/USDT\", order_type=\"sell\", amount=0.001)\n",
    "\n",
    "# Fetch real-time data\n",
    "latest_data = fetch_ohlcv(exchange, limit=20)\n",
    "latest_data = add_features(latest_data)\n",
    "\n",
    "# Use prediction model to trade\n",
    "predict_and_trade(exchange, latest_data, model)\n"
   ]
  },
  {
   "cell_type": "markdown",
   "id": "5d229b15-f524-428f-bec5-c458632a8637",
   "metadata": {},
   "source": [
    "# Run Continuously"
   ]
  },
  {
   "cell_type": "code",
   "execution_count": null,
   "id": "ba30f78d-25f4-446c-a861-a571a54b3176",
   "metadata": {},
   "outputs": [],
   "source": [
    "import time\n",
    "\n",
    "def run_trading_bot(exchange, model, symbol=\"BTC/USDT\", timeframe=\"1m\"):\n",
    "    while True:\n",
    "        try:\n",
    "            print(\"Fetching latest data...\")\n",
    "            latest_data = fetch_ohlcv(exchange, symbol=symbol, timeframe=timeframe, limit=20)\n",
    "            latest_data = add_features(latest_data)\n",
    "            predict_and_trade(exchange, latest_data, model)\n",
    "        except Exception as e:\n",
    "            print(f\"Error: {e}\")\n",
    "        \n",
    "        # Wait before fetching new data\n",
    "        time.sleep(60)  # 1 minute interval for '1m' timeframe\n",
    "\n",
    "# Start the bot\n",
    "run_trading_bot(exchange, model)\n"
   ]
  },
  {
   "cell_type": "code",
   "execution_count": null,
   "id": "9d14a62c-46de-4944-a6c0-3b5e78484910",
   "metadata": {},
   "outputs": [],
   "source": []
  }
 ],
 "metadata": {
  "kernelspec": {
   "display_name": "Python 3 (ipykernel)",
   "language": "python",
   "name": "python3"
  },
  "language_info": {
   "codemirror_mode": {
    "name": "ipython",
    "version": 3
   },
   "file_extension": ".py",
   "mimetype": "text/x-python",
   "name": "python",
   "nbconvert_exporter": "python",
   "pygments_lexer": "ipython3",
   "version": "3.12.7"
  }
 },
 "nbformat": 4,
 "nbformat_minor": 5
}
